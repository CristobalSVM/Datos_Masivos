{
  "nbformat": 4,
  "nbformat_minor": 0,
  "metadata": {
    "colab": {
      "provenance": [],
      "authorship_tag": "ABX9TyOIx73tHA647TLnRXUj/UGy",
      "include_colab_link": true
    },
    "kernelspec": {
      "name": "python3",
      "display_name": "Python 3"
    },
    "language_info": {
      "name": "python"
    }
  },
  "cells": [
    {
      "cell_type": "markdown",
      "metadata": {
        "id": "view-in-github",
        "colab_type": "text"
      },
      "source": [
        "<a href=\"https://colab.research.google.com/github/CristobalSVM/Datos_Masivos/blob/main/Pr%C3%A1ctica_4.ipynb\" target=\"_parent\"><img src=\"https://colab.research.google.com/assets/colab-badge.svg\" alt=\"Open In Colab\"/></a>"
      ]
    },
    {
      "cell_type": "code",
      "source": [
        "import pandas as pd\n",
        "import numpy as np\n",
        "\n",
        "#Cargar los datos\n",
        "data = pd.read_excel('/content/anime.xlsx')\n"
      ],
      "metadata": {
        "id": "WM_wtZcLV7S8"
      },
      "execution_count": 15,
      "outputs": []
    },
    {
      "cell_type": "code",
      "execution_count": 40,
      "metadata": {
        "colab": {
          "base_uri": "https://localhost:8080/"
        },
        "id": "kxAhT7c7f2Yh",
        "outputId": "dd85ef04-15aa-4312-acd0-1fefd8a004fe"
      },
      "outputs": [
        {
          "output_type": "execute_result",
          "data": {
            "text/plain": [
              "array([  775, 24796, 12389,  1586, 22412, 10796,   881, 19741,  9748,\n",
              "        8791])"
            ]
          },
          "metadata": {},
          "execution_count": 40
        }
      ],
      "source": [
        "## Realiza el muestreo aleatorio simple.\n",
        "tamaño_muestra = 10  # Define el tamaño de la muestra que deseas obtener.\n",
        "indices_muestra = np.random.choice(data.shape[0], size=tamaño_muestra, replace=False)\n",
        "indices_muestra"
      ]
    },
    {
      "cell_type": "code",
      "source": [
        "# Selección de una fila por posición\n",
        "muestreo = data.iloc[indices_muestra]\n",
        "print(muestreo)"
      ],
      "metadata": {
        "colab": {
          "base_uri": "https://localhost:8080/"
        },
        "id": "4r9vvvpIXUbz",
        "outputId": "77b4b1f7-ea0d-4f4c-c254-f591b537cb0f"
      },
      "execution_count": 41,
      "outputs": [
        {
          "output_type": "stream",
          "name": "stdout",
          "text": [
            "       anime_id                                               Name  \\\n",
            "775         858                                Gunparade Orchestra   \n",
            "24796     55597                        Hananoi-kun to Koi no Yamai   \n",
            "12389     34498  Uchiage Hanabi, Shita kara Miru ka? Yoko kara ...   \n",
            "1586       1747                                            Freedom   \n",
            "22412     51662                   Seika Jogakuin Kounin Sao Ojisan   \n",
            "10796     31157                                       ClassicaLoid   \n",
            "881         976        Yokohama Kaidashi Kikou: Quiet Country Cafe   \n",
            "19741     46766           Buding Xiao Zhen: Anquan Changshi Ketang   \n",
            "9748      28427        Isobe Isobee Monogatari: Ukiyo wa Tsurai yo   \n",
            "8791      23009  Ookami Shounen Ken: Arabia no Kaijin - Ma no I...   \n",
            "\n",
            "              English name                                         Other name  \\\n",
            "775    Gunparade Orchestra            ã‚¬ãƒ³ãƒ‘ãƒ¬ãƒ¼ãƒ‰ãƒ»ã‚ªãƒ¼ã‚±ã‚¹ãƒˆãƒ©   \n",
            "24796              UNKNOWN                        èŠ±é‡Žäº•ãã‚“ã¨æ‹ã®ç—…   \n",
            "12389            Fireworks  æ‰“ã¡ä¸Šã’èŠ±ç«ã€ä¸‹ã‹ã‚‰è¦‹ã‚‹ã‹ï¼Ÿæ¨ªã...   \n",
            "1586               Freedom                                            FREEDOM   \n",
            "22412              UNKNOWN               è–è¯å¥³å­¦é™¢å…¬èªç«¿ãŠã˜ã•ã‚“   \n",
            "10796         ClassicaLoid                              ã‚¯ãƒ©ã‚·ã‚«ãƒ­ã‚¤ãƒ‰   \n",
            "881                UNKNOWN  ãƒ¨ã‚³ãƒãƒžè²·ã„å‡ºã—ç´€è¡Œ Quiet Country Cafe   \n",
            "19741              UNKNOWN                  å¸ƒä¸å°é•‡ä¹‹å®‰å…¨å¸¸è¯†è¯¾å ‚   \n",
            "9748               UNKNOWN  ç£¯éƒ¨ç£¯å…µè¡›ç‰©èªž ã€œæµ®ä¸–ã¯ã¤ã‚‰ã„ã‚ˆã€œ   \n",
            "8791               UNKNOWN  ç‹¼å°‘å¹´ã‚±ãƒ³ ã‚¢ãƒ©ãƒ“ã‚¢ã®æ€ªäºº é­”ã®å²...   \n",
            "\n",
            "         Score                     Genres  \\\n",
            "775       5.84     Drama, Romance, Sci-Fi   \n",
            "24796  UNKNOWN                    Romance   \n",
            "12389     6.09            Romance, Sci-Fi   \n",
            "1586      7.38  Action, Adventure, Sci-Fi   \n",
            "22412     7.47                     Hentai   \n",
            "10796     6.42                     Comedy   \n",
            "881       7.13      Sci-Fi, Slice of Life   \n",
            "19741  UNKNOWN                    Fantasy   \n",
            "9748   UNKNOWN                     Comedy   \n",
            "8791   UNKNOWN                  Adventure   \n",
            "\n",
            "                                                Synopsis   Type Episodes  \\\n",
            "775    The story focuses and revolves around the 108t...     TV       24   \n",
            "24796  Hotaru Hinase is a first-year high school stud...     TV  UNKNOWN   \n",
            "12389  It's summer, and Norimichi Shimada and his fri...  Movie        1   \n",
            "1586   2041, Earth. After being pulled into the plane...    OVA        7   \n",
            "22412  A middle-aged man who is trapped in a huge deb...    OVA        4   \n",
            "10796  Ever since her father used up the last of the ...     TV       25   \n",
            "881    In the twilight of the human age, mankind cont...    OVA        2   \n",
            "19741           No description available for this anime.     TV       75   \n",
            "9748   In this ukiyoe-style flash anime, Isobe Isobee...    ONA        5   \n",
            "8791            No description available for this anime.  Movie        1   \n",
            "\n",
            "                              Aired  ...         Studios    Source  \\\n",
            "775     Oct 4, 2005 to Mar 28, 2006  ...    Brain's Base      Game   \n",
            "24796                     2024 to ?  ...         UNKNOWN     Manga   \n",
            "12389                  Aug 18, 2017  ...           Shaft     Other   \n",
            "1586   Nov 24, 2006 to May 23, 2008  ...         Sunrise  Original   \n",
            "22412    Jul 1, 2022 to Aug 5, 2022  ...           T-Rex     Manga   \n",
            "10796    Oct 8, 2016 to Apr 1, 2017  ...         Sunrise  Original   \n",
            "881     Dec 18, 2002 to Mar 5, 2003  ...         Ajia-do     Manga   \n",
            "19741                 Not available  ...         UNKNOWN  Original   \n",
            "9748    Dec 19, 2013 to Apr 3, 2014  ...         UNKNOWN     Manga   \n",
            "8791                   Mar 22, 1964  ...  Toei Animation   Unknown   \n",
            "\n",
            "            Duration                     Rating     Rank Popularity Favorites  \\\n",
            "775    25 min per ep  PG-13 - Teens 13 or older     9538       8182         3   \n",
            "24796        Unknown                    UNKNOWN  UNKNOWN       8883        36   \n",
            "12389    1 hr 30 min  PG-13 - Teens 13 or older     8437       1099       504   \n",
            "1586   28 min per ep  PG-13 - Teens 13 or older     2144       4248        62   \n",
            "22412  16 min per ep                Rx - Hentai  UNKNOWN       7404        59   \n",
            "10796  24 min per ep  PG-13 - Teens 13 or older     6752       4077        89   \n",
            "881    32 min per ep           R+ - Mild Nudity     3378       4632        51   \n",
            "19741  12 min per ep              PG - Children    15017      22795         0   \n",
            "9748    3 min per ep               G - All Ages    16760      15749         0   \n",
            "8791          50 min               G - All Ages    18705      15486         0   \n",
            "\n",
            "      Scored By Members                                          Image URL  \n",
            "775        1218    4754  https://cdn.myanimelist.net/images/anime/9/907...  \n",
            "24796   UNKNOWN    3684  https://cdn.myanimelist.net/images/anime/1907/...  \n",
            "12389    104035  204021  https://cdn.myanimelist.net/images/anime/10/86...  \n",
            "1586       7648   23670  https://cdn.myanimelist.net/images/anime/4/505...  \n",
            "22412      2586    6062  https://cdn.myanimelist.net/images/anime/1386/...  \n",
            "10796      6796   25966  https://cdn.myanimelist.net/images/anime/10/82...  \n",
            "881        8580   19407  https://cdn.myanimelist.net/images/anime/6/230...  \n",
            "19741   UNKNOWN      50  https://cdn.myanimelist.net/images/anime/1688/...  \n",
            "9748    UNKNOWN     415  https://cdn.myanimelist.net/images/anime/5/693...  \n",
            "8791    UNKNOWN     439  https://cdn.myanimelist.net/images/anime/12/59...  \n",
            "\n",
            "[10 rows x 24 columns]\n"
          ]
        }
      ]
    },
    {
      "cell_type": "code",
      "source": [
        "round(muestreo.describe(),)"
      ],
      "metadata": {
        "colab": {
          "base_uri": "https://localhost:8080/",
          "height": 300
        },
        "id": "JpLx6XLAXB51",
        "outputId": "532e247c-cc99-4ca6-d676-fad500ef0cb3"
      },
      "execution_count": 42,
      "outputs": [
        {
          "output_type": "execute_result",
          "data": {
            "text/plain": [
              "       anime_id  Popularity  Favorites   Members\n",
              "count      10.0        10.0       10.0      10.0\n",
              "mean    27470.0      9256.0       80.0   28847.0\n",
              "std     20828.0      6740.0      152.0   62350.0\n",
              "min       858.0      1099.0        0.0      50.0\n",
              "25%      7062.0      4344.0        1.0    1250.0\n",
              "50%     29792.0      7793.0       44.0    5408.0\n",
              "75%     43699.0     13835.0       61.0   22604.0\n",
              "max     55597.0     22795.0      504.0  204021.0"
            ],
            "text/html": [
              "\n",
              "\n",
              "  <div id=\"df-cc78d3c2-427b-4e38-9429-61715b16d336\">\n",
              "    <div class=\"colab-df-container\">\n",
              "      <div>\n",
              "<style scoped>\n",
              "    .dataframe tbody tr th:only-of-type {\n",
              "        vertical-align: middle;\n",
              "    }\n",
              "\n",
              "    .dataframe tbody tr th {\n",
              "        vertical-align: top;\n",
              "    }\n",
              "\n",
              "    .dataframe thead th {\n",
              "        text-align: right;\n",
              "    }\n",
              "</style>\n",
              "<table border=\"1\" class=\"dataframe\">\n",
              "  <thead>\n",
              "    <tr style=\"text-align: right;\">\n",
              "      <th></th>\n",
              "      <th>anime_id</th>\n",
              "      <th>Popularity</th>\n",
              "      <th>Favorites</th>\n",
              "      <th>Members</th>\n",
              "    </tr>\n",
              "  </thead>\n",
              "  <tbody>\n",
              "    <tr>\n",
              "      <th>count</th>\n",
              "      <td>10.0</td>\n",
              "      <td>10.0</td>\n",
              "      <td>10.0</td>\n",
              "      <td>10.0</td>\n",
              "    </tr>\n",
              "    <tr>\n",
              "      <th>mean</th>\n",
              "      <td>27470.0</td>\n",
              "      <td>9256.0</td>\n",
              "      <td>80.0</td>\n",
              "      <td>28847.0</td>\n",
              "    </tr>\n",
              "    <tr>\n",
              "      <th>std</th>\n",
              "      <td>20828.0</td>\n",
              "      <td>6740.0</td>\n",
              "      <td>152.0</td>\n",
              "      <td>62350.0</td>\n",
              "    </tr>\n",
              "    <tr>\n",
              "      <th>min</th>\n",
              "      <td>858.0</td>\n",
              "      <td>1099.0</td>\n",
              "      <td>0.0</td>\n",
              "      <td>50.0</td>\n",
              "    </tr>\n",
              "    <tr>\n",
              "      <th>25%</th>\n",
              "      <td>7062.0</td>\n",
              "      <td>4344.0</td>\n",
              "      <td>1.0</td>\n",
              "      <td>1250.0</td>\n",
              "    </tr>\n",
              "    <tr>\n",
              "      <th>50%</th>\n",
              "      <td>29792.0</td>\n",
              "      <td>7793.0</td>\n",
              "      <td>44.0</td>\n",
              "      <td>5408.0</td>\n",
              "    </tr>\n",
              "    <tr>\n",
              "      <th>75%</th>\n",
              "      <td>43699.0</td>\n",
              "      <td>13835.0</td>\n",
              "      <td>61.0</td>\n",
              "      <td>22604.0</td>\n",
              "    </tr>\n",
              "    <tr>\n",
              "      <th>max</th>\n",
              "      <td>55597.0</td>\n",
              "      <td>22795.0</td>\n",
              "      <td>504.0</td>\n",
              "      <td>204021.0</td>\n",
              "    </tr>\n",
              "  </tbody>\n",
              "</table>\n",
              "</div>\n",
              "      <button class=\"colab-df-convert\" onclick=\"convertToInteractive('df-cc78d3c2-427b-4e38-9429-61715b16d336')\"\n",
              "              title=\"Convert this dataframe to an interactive table.\"\n",
              "              style=\"display:none;\">\n",
              "\n",
              "  <svg xmlns=\"http://www.w3.org/2000/svg\" height=\"24px\"viewBox=\"0 0 24 24\"\n",
              "       width=\"24px\">\n",
              "    <path d=\"M0 0h24v24H0V0z\" fill=\"none\"/>\n",
              "    <path d=\"M18.56 5.44l.94 2.06.94-2.06 2.06-.94-2.06-.94-.94-2.06-.94 2.06-2.06.94zm-11 1L8.5 8.5l.94-2.06 2.06-.94-2.06-.94L8.5 2.5l-.94 2.06-2.06.94zm10 10l.94 2.06.94-2.06 2.06-.94-2.06-.94-.94-2.06-.94 2.06-2.06.94z\"/><path d=\"M17.41 7.96l-1.37-1.37c-.4-.4-.92-.59-1.43-.59-.52 0-1.04.2-1.43.59L10.3 9.45l-7.72 7.72c-.78.78-.78 2.05 0 2.83L4 21.41c.39.39.9.59 1.41.59.51 0 1.02-.2 1.41-.59l7.78-7.78 2.81-2.81c.8-.78.8-2.07 0-2.86zM5.41 20L4 18.59l7.72-7.72 1.47 1.35L5.41 20z\"/>\n",
              "  </svg>\n",
              "      </button>\n",
              "\n",
              "\n",
              "\n",
              "    <div id=\"df-f3d87075-67db-4865-ac4a-d482c2d594ba\">\n",
              "      <button class=\"colab-df-quickchart\" onclick=\"quickchart('df-f3d87075-67db-4865-ac4a-d482c2d594ba')\"\n",
              "              title=\"Suggest charts.\"\n",
              "              style=\"display:none;\">\n",
              "\n",
              "<svg xmlns=\"http://www.w3.org/2000/svg\" height=\"24px\"viewBox=\"0 0 24 24\"\n",
              "     width=\"24px\">\n",
              "    <g>\n",
              "        <path d=\"M19 3H5c-1.1 0-2 .9-2 2v14c0 1.1.9 2 2 2h14c1.1 0 2-.9 2-2V5c0-1.1-.9-2-2-2zM9 17H7v-7h2v7zm4 0h-2V7h2v10zm4 0h-2v-4h2v4z\"/>\n",
              "    </g>\n",
              "</svg>\n",
              "      </button>\n",
              "    </div>\n",
              "\n",
              "<style>\n",
              "  .colab-df-quickchart {\n",
              "    background-color: #E8F0FE;\n",
              "    border: none;\n",
              "    border-radius: 50%;\n",
              "    cursor: pointer;\n",
              "    display: none;\n",
              "    fill: #1967D2;\n",
              "    height: 32px;\n",
              "    padding: 0 0 0 0;\n",
              "    width: 32px;\n",
              "  }\n",
              "\n",
              "  .colab-df-quickchart:hover {\n",
              "    background-color: #E2EBFA;\n",
              "    box-shadow: 0px 1px 2px rgba(60, 64, 67, 0.3), 0px 1px 3px 1px rgba(60, 64, 67, 0.15);\n",
              "    fill: #174EA6;\n",
              "  }\n",
              "\n",
              "  [theme=dark] .colab-df-quickchart {\n",
              "    background-color: #3B4455;\n",
              "    fill: #D2E3FC;\n",
              "  }\n",
              "\n",
              "  [theme=dark] .colab-df-quickchart:hover {\n",
              "    background-color: #434B5C;\n",
              "    box-shadow: 0px 1px 3px 1px rgba(0, 0, 0, 0.15);\n",
              "    filter: drop-shadow(0px 1px 2px rgba(0, 0, 0, 0.3));\n",
              "    fill: #FFFFFF;\n",
              "  }\n",
              "</style>\n",
              "\n",
              "    <script>\n",
              "      async function quickchart(key) {\n",
              "        const containerElement = document.querySelector('#' + key);\n",
              "        const charts = await google.colab.kernel.invokeFunction(\n",
              "            'suggestCharts', [key], {});\n",
              "      }\n",
              "    </script>\n",
              "\n",
              "      <script>\n",
              "\n",
              "function displayQuickchartButton(domScope) {\n",
              "  let quickchartButtonEl =\n",
              "    domScope.querySelector('#df-f3d87075-67db-4865-ac4a-d482c2d594ba button.colab-df-quickchart');\n",
              "  quickchartButtonEl.style.display =\n",
              "    google.colab.kernel.accessAllowed ? 'block' : 'none';\n",
              "}\n",
              "\n",
              "        displayQuickchartButton(document);\n",
              "      </script>\n",
              "      <style>\n",
              "    .colab-df-container {\n",
              "      display:flex;\n",
              "      flex-wrap:wrap;\n",
              "      gap: 12px;\n",
              "    }\n",
              "\n",
              "    .colab-df-convert {\n",
              "      background-color: #E8F0FE;\n",
              "      border: none;\n",
              "      border-radius: 50%;\n",
              "      cursor: pointer;\n",
              "      display: none;\n",
              "      fill: #1967D2;\n",
              "      height: 32px;\n",
              "      padding: 0 0 0 0;\n",
              "      width: 32px;\n",
              "    }\n",
              "\n",
              "    .colab-df-convert:hover {\n",
              "      background-color: #E2EBFA;\n",
              "      box-shadow: 0px 1px 2px rgba(60, 64, 67, 0.3), 0px 1px 3px 1px rgba(60, 64, 67, 0.15);\n",
              "      fill: #174EA6;\n",
              "    }\n",
              "\n",
              "    [theme=dark] .colab-df-convert {\n",
              "      background-color: #3B4455;\n",
              "      fill: #D2E3FC;\n",
              "    }\n",
              "\n",
              "    [theme=dark] .colab-df-convert:hover {\n",
              "      background-color: #434B5C;\n",
              "      box-shadow: 0px 1px 3px 1px rgba(0, 0, 0, 0.15);\n",
              "      filter: drop-shadow(0px 1px 2px rgba(0, 0, 0, 0.3));\n",
              "      fill: #FFFFFF;\n",
              "    }\n",
              "  </style>\n",
              "\n",
              "      <script>\n",
              "        const buttonEl =\n",
              "          document.querySelector('#df-cc78d3c2-427b-4e38-9429-61715b16d336 button.colab-df-convert');\n",
              "        buttonEl.style.display =\n",
              "          google.colab.kernel.accessAllowed ? 'block' : 'none';\n",
              "\n",
              "        async function convertToInteractive(key) {\n",
              "          const element = document.querySelector('#df-cc78d3c2-427b-4e38-9429-61715b16d336');\n",
              "          const dataTable =\n",
              "            await google.colab.kernel.invokeFunction('convertToInteractive',\n",
              "                                                     [key], {});\n",
              "          if (!dataTable) return;\n",
              "\n",
              "          const docLinkHtml = 'Like what you see? Visit the ' +\n",
              "            '<a target=\"_blank\" href=https://colab.research.google.com/notebooks/data_table.ipynb>data table notebook</a>'\n",
              "            + ' to learn more about interactive tables.';\n",
              "          element.innerHTML = '';\n",
              "          dataTable['output_type'] = 'display_data';\n",
              "          await google.colab.output.renderOutput(dataTable, element);\n",
              "          const docLink = document.createElement('div');\n",
              "          docLink.innerHTML = docLinkHtml;\n",
              "          element.appendChild(docLink);\n",
              "        }\n",
              "      </script>\n",
              "    </div>\n",
              "  </div>\n"
            ]
          },
          "metadata": {},
          "execution_count": 42
        }
      ]
    },
    {
      "cell_type": "code",
      "source": [
        "# Realiza el muestreo sesgado.\n",
        "indices_muestra_sesgada = [2, 22, 32, 42, 52 ,62 ,72 ,82 ,92, 102]\n",
        "# Selección de una fila por posición\n",
        "muestreo_sesgado = data.iloc[indices_muestra_sesgada]\n",
        "print(muestreo_sesgado)"
      ],
      "metadata": {
        "colab": {
          "base_uri": "https://localhost:8080/"
        },
        "id": "DjzPz7uvmy1N",
        "outputId": "522a52d8-1801-4789-bc5d-44627386beb9"
      },
      "execution_count": 43,
      "outputs": [
        {
          "output_type": "stream",
          "name": "stdout",
          "text": [
            "     anime_id                                               Name  \\\n",
            "2           6                                             Trigun   \n",
            "22         32     Neon Genesis Evangelion: The End of Evangelion   \n",
            "32         51                                   Tenshi Kinryouku   \n",
            "42         61                                          D.N.Angel   \n",
            "52         72                          Full Metal Panic? Fumoffu   \n",
            "62         83  Kidou Senshi Gundam: Dai 08 MS Shoutai - Mille...   \n",
            "72         93                           Kidou Senshi Gundam SEED   \n",
            "82        103                                    Akazukin Chacha   \n",
            "92        113                                  Uchuu no Stellvia   \n",
            "102       123                                      Fushigi Yuugi   \n",
            "\n",
            "                                          English name  \\\n",
            "2                                               Trigun   \n",
            "22      Neon Genesis Evangelion: The End of Evangelion   \n",
            "32                                     Angel Sanctuary   \n",
            "42                                           D.N.Angel   \n",
            "52                           Full Metal Panic? Fumoffu   \n",
            "62   Mobile Suit Gundam: The 08th MS Team - Miller'...   \n",
            "72                             Mobile Suit Gundam SEED   \n",
            "82                              Red Riding Hood Chacha   \n",
            "92                                            Stellvia   \n",
            "102                                    Mysterious Play   \n",
            "\n",
            "                                            Other name Score  \\\n",
            "2                                      ãƒˆãƒ©ã‚¤ã‚¬ãƒ³  8.22   \n",
            "22   æ–°ä¸–ç´€ã‚¨ãƒ´ã‚¡ãƒ³ã‚²ãƒªã‚ªãƒ³åŠ‡å ´ç‰ˆ THE...  8.55   \n",
            "32                                     å¤©ä½¿ç¦çŒŸåŒº  6.27   \n",
            "42                         ï¼¤ãƒ»ï¼®ãƒ»ï¼¡ï¼®ï¼§ï¼¥ï¼¬  7.17   \n",
            "52        ãƒ•ãƒ«ãƒ¡ã‚¿ãƒ«ãƒ»ãƒ‘ãƒ‹ãƒƒã‚¯? ãµã‚‚ã£ãµ  8.03   \n",
            "62   æ©Ÿå‹•æˆ¦å£«ã‚¬ãƒ³ãƒ€ãƒ  ç¬¬08MSå°éšŠ ãƒŸãƒ©ã...  6.76   \n",
            "72                        æ©Ÿå‹•æˆ¦å£«ã‚¬ãƒ³ãƒ€ãƒ SEED  7.75   \n",
            "82                            èµ¤ãšãã‚“ãƒãƒ£ãƒãƒ£  7.49   \n",
            "92                         å®‡å®™ã®ã‚¹ãƒ†ãƒ«ãƒ´ã‚£ã‚¢  7.37   \n",
            "102                                    ãµã—ãŽéŠæˆ¯  7.61   \n",
            "\n",
            "                                            Genres  \\\n",
            "2                        Action, Adventure, Sci-Fi   \n",
            "22                      Avant Garde, Drama, Sci-Fi   \n",
            "32            Action, Drama, Romance, Supernatural   \n",
            "42                Action, Comedy, Fantasy, Romance   \n",
            "52                                  Action, Comedy   \n",
            "62                          Drama, Romance, Sci-Fi   \n",
            "72   Action, Award Winning, Drama, Romance, Sci-Fi   \n",
            "82             Adventure, Comedy, Fantasy, Romance   \n",
            "92                         Action, Romance, Sci-Fi   \n",
            "102                    Adventure, Fantasy, Romance   \n",
            "\n",
            "                                              Synopsis   Type Episodes  \\\n",
            "2    Vash the Stampede is the man with a $$60,000,0...     TV       26   \n",
            "22   Shinji Ikari is left emotionally comatose afte...  Movie        1   \n",
            "32   Setsuna Mudo is a 16-year-old high school stud...    OVA        3   \n",
            "42   Daisuke Niwa is a clumsy, block-headed, and wi...     TV       26   \n",
            "52   Sergeant Sousuke Sagara returns to Jindai High...     TV       12   \n",
            "62   Shortly after being rescued off the Himalayas,...  Movie        1   \n",
            "72   In the year Cosmic Era 0071, the space colony ...     TV       50   \n",
            "82   Akazukin Chacha is the story of a young magica...     TV       74   \n",
            "92   In the year 2167, a wave of radiation released...     TV       26   \n",
            "102  During a visit to the National Library, Miaka ...     TV       52   \n",
            "\n",
            "                            Aired  ...                 Studios       Source  \\\n",
            "2     Apr 1, 1998 to Sep 30, 1998  ...                Madhouse        Manga   \n",
            "22                   Jul 19, 1997  ...  Gainax, Production I.G     Original   \n",
            "32   May 25, 2000 to Aug 25, 2000  ...          Hal Film Maker        Manga   \n",
            "42    Apr 3, 2003 to Sep 25, 2003  ...                   Xebec        Manga   \n",
            "52   Aug 26, 2003 to Nov 18, 2003  ...         Kyoto Animation  Light novel   \n",
            "62                    Aug 1, 1998  ...                 Sunrise     Original   \n",
            "72    Oct 5, 2002 to Sep 27, 2003  ...                 Sunrise     Original   \n",
            "82    Jan 7, 1994 to Jun 30, 1995  ...                  Gallop        Manga   \n",
            "92    Apr 3, 2003 to Sep 25, 2003  ...                   Xebec     Original   \n",
            "102   Apr 6, 1995 to Mar 28, 1996  ...                 Pierrot        Manga   \n",
            "\n",
            "          Duration                          Rating  Rank Popularity Favorites  \\\n",
            "2    24 min per ep       PG-13 - Teens 13 or older   328        246     15035   \n",
            "22     1 hr 26 min                R+ - Mild Nudity    98        177     27272   \n",
            "32   29 min per ep                R+ - Mild Nudity  7564       2958       182   \n",
            "42   23 min per ep       PG-13 - Teens 13 or older  3180       1211      1257   \n",
            "52   24 min per ep       PG-13 - Teens 13 or older   548        769      2907   \n",
            "62          52 min       PG-13 - Teens 13 or older  5014       5384         3   \n",
            "72   24 min per ep  R - 17+ (violence & profanity)  1011       1330      3435   \n",
            "82   24 min per ep                    G - All Ages  1733       5140       110   \n",
            "92   23 min per ep       PG-13 - Teens 13 or older  2176       4220       119   \n",
            "102  23 min per ep       PG-13 - Teens 13 or older  1357       1748      2043   \n",
            "\n",
            "    Scored By Members                                          Image URL  \n",
            "2      356739  727252  https://cdn.myanimelist.net/images/anime/7/203...  \n",
            "22     586441  879361  https://cdn.myanimelist.net/images/anime/1404/...  \n",
            "32      26701   48258  https://cdn.myanimelist.net/images/anime/11/45...  \n",
            "42      98061  182259  https://cdn.myanimelist.net/images/anime/1126/...  \n",
            "52     171852  289064  https://cdn.myanimelist.net/images/anime/4/752...  \n",
            "62       6621   13284  https://cdn.myanimelist.net/images/anime/1132/...  \n",
            "72      92725  164436  https://cdn.myanimelist.net/images/anime/1792/...  \n",
            "82       5335   14917  https://cdn.myanimelist.net/images/anime/1098/...  \n",
            "92       9484   24116  https://cdn.myanimelist.net/images/anime/1587/...  \n",
            "102     51017  115885  https://cdn.myanimelist.net/images/anime/2/201...  \n",
            "\n",
            "[10 rows x 24 columns]\n"
          ]
        }
      ]
    },
    {
      "cell_type": "code",
      "source": [
        "print(muestreo['Popularity'].mean())\n",
        "print(muestreo_sesgado['Popularity'].mean())"
      ],
      "metadata": {
        "colab": {
          "base_uri": "https://localhost:8080/"
        },
        "id": "qjYLaWItaLFb",
        "outputId": "53456ccf-45e6-4a01-a4ad-d5e28580b822"
      },
      "execution_count": 44,
      "outputs": [
        {
          "output_type": "stream",
          "name": "stdout",
          "text": [
            "9255.5\n",
            "2318.3\n"
          ]
        }
      ]
    },
    {
      "cell_type": "code",
      "source": [
        "print(muestreo['Popularity'].max())\n",
        "print(muestreo_sesgado['Popularity'].max())"
      ],
      "metadata": {
        "colab": {
          "base_uri": "https://localhost:8080/"
        },
        "id": "KBFy43VBbOu0",
        "outputId": "4c35f336-c3fb-4716-fdaa-7d7843f9d3d6"
      },
      "execution_count": 45,
      "outputs": [
        {
          "output_type": "stream",
          "name": "stdout",
          "text": [
            "22795\n",
            "5384\n"
          ]
        }
      ]
    },
    {
      "cell_type": "code",
      "source": [
        "print(muestreo['Popularity'].min())\n",
        "print(muestreo_sesgado['Popularity'].min())"
      ],
      "metadata": {
        "colab": {
          "base_uri": "https://localhost:8080/"
        },
        "id": "UbDK24vnnCnX",
        "outputId": "d9dc443c-f023-4a7a-9a4b-1cf73b0c9aa8"
      },
      "execution_count": 47,
      "outputs": [
        {
          "output_type": "stream",
          "name": "stdout",
          "text": [
            "1099\n",
            "177\n"
          ]
        }
      ]
    },
    {
      "cell_type": "code",
      "source": [
        "print(muestreo['Popularity'].var())\n",
        "print(muestreo_sesgado['Popularity'].var())"
      ],
      "metadata": {
        "colab": {
          "base_uri": "https://localhost:8080/"
        },
        "id": "9D4O9tR5n4wS",
        "outputId": "c5d7ae74-e05b-4d3b-c414-461c2824140d"
      },
      "execution_count": 48,
      "outputs": [
        {
          "output_type": "stream",
          "name": "stdout",
          "text": [
            "45424345.166666664\n",
            "3910466.9000000004\n"
          ]
        }
      ]
    },
    {
      "cell_type": "markdown",
      "source": [
        "Los datos cambian drasticamente al usar un muestreo aleatorio simple a un muestreo sesgado.\n",
        "\n",
        "En el muestreo aleatorio simple son selecciones al azar, además de que cada elemento tiene la misma probabilidad de ser elegido.\n",
        "\n",
        "En el caso del muestreo sesgado, hay elementos que tienen preferencia a ser elegidos.\n",
        "\n",
        "Al hacer la comparación de la media, máximo, mínimo y varianza de la variable popularidad del anime, cambian mucho los resultados y en general pasará lo mismo con otras variables.\n",
        "\n",
        "Es importante tener en cuenta que el muestreo aleatorio simple es una técnica preferida cuando se busca obtener una muestra representativa de una población, ya que minimiza el sesgo y permite que los resultados de la muestra sean generalizables a la población en su conjunto. Por otro lado, el muestreo sesgado se utiliza en situaciones específicas donde no es posible o práctico realizar un muestreo aleatorio simple, pero es necesario obtener datos incluso si los resultados pueden no ser generalizables a la población en su totalidad."
      ],
      "metadata": {
        "id": "in9BBk0_btmS"
      }
    },
    {
      "cell_type": "code",
      "source": [],
      "metadata": {
        "id": "FYGdNkvVb1KS"
      },
      "execution_count": 48,
      "outputs": []
    }
  ]
}